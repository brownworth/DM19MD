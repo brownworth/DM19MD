{
 "cells": [
  {
   "cell_type": "markdown",
   "metadata": {},
   "source": [
    "Using Pandas and Numpy with Data\n",
    "--"
   ]
  },
  {
   "cell_type": "markdown",
   "metadata": {},
   "source": [
    "First, we'll need to import the libraries."
   ]
  },
  {
   "cell_type": "code",
   "execution_count": null,
   "metadata": {},
   "outputs": [],
   "source": [
    "import pandas as pd\n",
    "import numpy as np"
   ]
  },
  {
   "cell_type": "markdown",
   "metadata": {},
   "source": [
    "This is an example of how to read a table from Wikipedia, harvest some data, and change it around so that it reads well for NumPy and Pandas.\n",
    "\n",
    "This first entry describes the `.read_html()` function from the Pandas library."
   ]
  },
  {
   "cell_type": "code",
   "execution_count": null,
   "metadata": {},
   "outputs": [],
   "source": [
    "# pd.read_html?"
   ]
  },
  {
   "cell_type": "code",
   "execution_count": 47,
   "metadata": {},
   "outputs": [],
   "source": [
    "full_episodes = pd.DataFrame()\n",
    "for season in range(1,8):\n",
    "    episodes = pd.read_html(f'https://en.wikipedia.org/wiki/Parks_and_Recreation_%28season_{season}%29',header=0)\n",
    "    season = episodes[1]\n",
    "    episode_desc = season[1::2].iloc[:,0].reset_index().drop('index',axis=1)\n",
    "#     this is the line we were missing:\n",
    "    episode_desc = episode_desc.rename(columns = {'No.overall':'Description'})\n",
    "    episode_data = season[0::2].reset_index().drop('index',axis=1)\n",
    "    episode_data = episode_data.drop('Unnamed: 7',axis=1)\n",
    "    episode_list = pd.concat([episode_data,episode_desc],axis=1)\n",
    "    \n",
    "    episode_list = episode_list.set_index('No.overall')\n",
    "    full_episodes = pd.concat([full_episodes,episode_list],axis=0)"
   ]
  },
  {
   "cell_type": "code",
   "execution_count": 39,
   "metadata": {},
   "outputs": [],
   "source": [
    "episodes = pd.read_html('https://en.wikipedia.org/wiki/Parks_and_Recreation_%28season_2%29')\n",
    "season = episodes[1]"
   ]
  },
  {
   "cell_type": "code",
   "execution_count": 44,
   "metadata": {},
   "outputs": [],
   "source": [
    "full_episodes = pd.DataFrame()\n",
    "for season in range(1,8):\n",
    "    episodes = pd.read_html(f'https://en.wikipedia.org/wiki/Parks_and_Recreation_%28season_{season}%29')\n",
    "    season = episodes[1]\n",
    "    season.fillna(method='bfill',inplace=True)\n",
    "    season_clean = season.iloc[0::2].copy()\n",
    "    season_clean = season_clean.rename(columns = {'Unnamed: 7':'Description'})\n",
    "    season_clean.set_index('No.overall',inplace=True)\n",
    "    full_episodes = pd.concat([full_episodes,season_clean],axis=0)"
   ]
  },
  {
   "cell_type": "code",
   "execution_count": 45,
   "metadata": {},
   "outputs": [
    {
     "data": {
      "text/html": [
       "<div>\n",
       "<style scoped>\n",
       "    .dataframe tbody tr th:only-of-type {\n",
       "        vertical-align: middle;\n",
       "    }\n",
       "\n",
       "    .dataframe tbody tr th {\n",
       "        vertical-align: top;\n",
       "    }\n",
       "\n",
       "    .dataframe thead th {\n",
       "        text-align: right;\n",
       "    }\n",
       "</style>\n",
       "<table border=\"1\" class=\"dataframe\">\n",
       "  <thead>\n",
       "    <tr style=\"text-align: right;\">\n",
       "      <th></th>\n",
       "      <th>No. inseason</th>\n",
       "      <th>Title</th>\n",
       "      <th>Directed by</th>\n",
       "      <th>Written by</th>\n",
       "      <th>Original air date</th>\n",
       "      <th>U.S. viewers(millions)</th>\n",
       "      <th>Description</th>\n",
       "    </tr>\n",
       "    <tr>\n",
       "      <th>No.overall</th>\n",
       "      <th></th>\n",
       "      <th></th>\n",
       "      <th></th>\n",
       "      <th></th>\n",
       "      <th></th>\n",
       "      <th></th>\n",
       "      <th></th>\n",
       "    </tr>\n",
       "  </thead>\n",
       "  <tbody>\n",
       "    <tr>\n",
       "      <th>1</th>\n",
       "      <td>1</td>\n",
       "      <td>\"Pilot\"</td>\n",
       "      <td>Greg Daniels</td>\n",
       "      <td>Greg Daniels &amp; Michael Schur</td>\n",
       "      <td>April 9, 2009</td>\n",
       "      <td>6.77[4]</td>\n",
       "      <td>Ann Perkins (Rashida Jones) attends a town mee...</td>\n",
       "    </tr>\n",
       "    <tr>\n",
       "      <th>2</th>\n",
       "      <td>2</td>\n",
       "      <td>\"Canvassing\"</td>\n",
       "      <td>Seth Gordon</td>\n",
       "      <td>Rachel Axler</td>\n",
       "      <td>April 16, 2009</td>\n",
       "      <td>5.92[5]</td>\n",
       "      <td>Leslie and the pit subcommittee canvas neighbo...</td>\n",
       "    </tr>\n",
       "    <tr>\n",
       "      <th>3</th>\n",
       "      <td>3</td>\n",
       "      <td>\"The Reporter\"</td>\n",
       "      <td>Jeffrey Blitz</td>\n",
       "      <td>Dan Goor</td>\n",
       "      <td>April 23, 2009</td>\n",
       "      <td>5.24[6]</td>\n",
       "      <td>Leslie invites a local reporter (Alison Becker...</td>\n",
       "    </tr>\n",
       "    <tr>\n",
       "      <th>4</th>\n",
       "      <td>4</td>\n",
       "      <td>\"Boys' Club\"</td>\n",
       "      <td>Michael McCullers</td>\n",
       "      <td>Alan Yang</td>\n",
       "      <td>April 30, 2009</td>\n",
       "      <td>5.29[7]</td>\n",
       "      <td>As Andy cleans up the house to surprise Ann, L...</td>\n",
       "    </tr>\n",
       "    <tr>\n",
       "      <th>5</th>\n",
       "      <td>5</td>\n",
       "      <td>\"The Banquet\"</td>\n",
       "      <td>Beth McCarthy-Miller</td>\n",
       "      <td>Tucker Cawley</td>\n",
       "      <td>May 7, 2009</td>\n",
       "      <td>4.64[8]</td>\n",
       "      <td>During a banquet honoring her mother's public ...</td>\n",
       "    </tr>\n",
       "    <tr>\n",
       "      <th>6</th>\n",
       "      <td>6</td>\n",
       "      <td>\"Rock Show\"†</td>\n",
       "      <td>Michael Schur</td>\n",
       "      <td>Norm Hiscock</td>\n",
       "      <td>May 14, 2009</td>\n",
       "      <td>4.25[9]</td>\n",
       "      <td>Leslie attends what she believes is a business...</td>\n",
       "    </tr>\n",
       "    <tr>\n",
       "      <th>7</th>\n",
       "      <td>1</td>\n",
       "      <td>\"Pawnee Zoo\"</td>\n",
       "      <td>Paul Feig</td>\n",
       "      <td>Norm Hiscock</td>\n",
       "      <td>September 17, 2009</td>\n",
       "      <td>5.00[1]</td>\n",
       "      <td>In order to promote the Pawnee Zoo, Leslie (Am...</td>\n",
       "    </tr>\n",
       "    <tr>\n",
       "      <th>8</th>\n",
       "      <td>2</td>\n",
       "      <td>\"The Stakeout\"</td>\n",
       "      <td>Seth Gordon</td>\n",
       "      <td>Rachel Axler</td>\n",
       "      <td>September 24, 2009</td>\n",
       "      <td>4.22[2]</td>\n",
       "      <td>While taking care of the new community garden,...</td>\n",
       "    </tr>\n",
       "    <tr>\n",
       "      <th>9</th>\n",
       "      <td>3</td>\n",
       "      <td>\"Beauty Pageant\"</td>\n",
       "      <td>Jason Woliner</td>\n",
       "      <td>Katie Dippold</td>\n",
       "      <td>October 1, 2009</td>\n",
       "      <td>4.63[3]</td>\n",
       "      <td>Leslie will be judging the annual Miss Pawnee ...</td>\n",
       "    </tr>\n",
       "    <tr>\n",
       "      <th>10</th>\n",
       "      <td>4</td>\n",
       "      <td>\"Practice Date\"</td>\n",
       "      <td>Alex Hardcastle</td>\n",
       "      <td>Harris Wittels</td>\n",
       "      <td>October 8, 2009</td>\n",
       "      <td>4.97[4]</td>\n",
       "      <td>Her first date with Dave is approaching fast, ...</td>\n",
       "    </tr>\n",
       "    <tr>\n",
       "      <th>11</th>\n",
       "      <td>5</td>\n",
       "      <td>\"Sister City\"</td>\n",
       "      <td>Michael Schur</td>\n",
       "      <td>Alan Yang</td>\n",
       "      <td>October 15, 2009</td>\n",
       "      <td>4.69[5]</td>\n",
       "      <td>Leslie plays host to the visiting party from t...</td>\n",
       "    </tr>\n",
       "    <tr>\n",
       "      <th>12</th>\n",
       "      <td>6</td>\n",
       "      <td>\"Kaboom\"</td>\n",
       "      <td>Charles McDougall</td>\n",
       "      <td>Aisha Muharrar</td>\n",
       "      <td>October 22, 2009</td>\n",
       "      <td>4.98[6]</td>\n",
       "      <td>Leslie and the rest of the committee help a lo...</td>\n",
       "    </tr>\n",
       "    <tr>\n",
       "      <th>13</th>\n",
       "      <td>7</td>\n",
       "      <td>\"Greg Pikitis\"</td>\n",
       "      <td>Dean Holland</td>\n",
       "      <td>Michael Schur</td>\n",
       "      <td>October 29, 2009</td>\n",
       "      <td>4.96[7]</td>\n",
       "      <td>Leslie enlists the help of Dave (guest star Lo...</td>\n",
       "    </tr>\n",
       "    <tr>\n",
       "      <th>14</th>\n",
       "      <td>8</td>\n",
       "      <td>\"Ron and Tammy\"</td>\n",
       "      <td>Troy Miller</td>\n",
       "      <td>Mike Scully</td>\n",
       "      <td>November 5, 2009</td>\n",
       "      <td>4.94[8]</td>\n",
       "      <td>Leslie is upset when she learns the library de...</td>\n",
       "    </tr>\n",
       "    <tr>\n",
       "      <th>15</th>\n",
       "      <td>9</td>\n",
       "      <td>\"The Camel\"</td>\n",
       "      <td>Millicent Shelton</td>\n",
       "      <td>Rachel Axler</td>\n",
       "      <td>November 12, 2009</td>\n",
       "      <td>4.67[9]</td>\n",
       "      <td>One of the city hall murals is defaced, which ...</td>\n",
       "    </tr>\n",
       "    <tr>\n",
       "      <th>16</th>\n",
       "      <td>10</td>\n",
       "      <td>\"Hunting Trip\"</td>\n",
       "      <td>Greg Daniels</td>\n",
       "      <td>Dan Goor</td>\n",
       "      <td>November 19, 2009</td>\n",
       "      <td>4.61[10]</td>\n",
       "      <td>Trying to prove that she is capable of just ha...</td>\n",
       "    </tr>\n",
       "    <tr>\n",
       "      <th>17</th>\n",
       "      <td>11</td>\n",
       "      <td>\"Tom's Divorce\"</td>\n",
       "      <td>Troy Miller</td>\n",
       "      <td>Harris Wittels</td>\n",
       "      <td>December 3, 2009</td>\n",
       "      <td>4.83[11]</td>\n",
       "      <td>When Ron sends Leslie up to the DMV, she accid...</td>\n",
       "    </tr>\n",
       "    <tr>\n",
       "      <th>18</th>\n",
       "      <td>12</td>\n",
       "      <td>\"Christmas Scandal\"</td>\n",
       "      <td>Randall Einhorn</td>\n",
       "      <td>Michael Schur</td>\n",
       "      <td>December 10, 2009</td>\n",
       "      <td>4.90[12]</td>\n",
       "      <td>While designing the Pawnee Winter Wonderland F...</td>\n",
       "    </tr>\n",
       "    <tr>\n",
       "      <th>19</th>\n",
       "      <td>13</td>\n",
       "      <td>\"The Set Up\"†</td>\n",
       "      <td>Troy Miller</td>\n",
       "      <td>Katie Dippold</td>\n",
       "      <td>January 14, 2010</td>\n",
       "      <td>4.59[13]</td>\n",
       "      <td>With Dave out of the picture, Ann decides to s...</td>\n",
       "    </tr>\n",
       "    <tr>\n",
       "      <th>20</th>\n",
       "      <td>14</td>\n",
       "      <td>\"Leslie's House\"</td>\n",
       "      <td>Alex Hardcastle</td>\n",
       "      <td>Dan Goor</td>\n",
       "      <td>January 21, 2010</td>\n",
       "      <td>4.35[14]</td>\n",
       "      <td>After Leslie and Justin have a series of great...</td>\n",
       "    </tr>\n",
       "    <tr>\n",
       "      <th>21</th>\n",
       "      <td>15</td>\n",
       "      <td>\"Sweetums\"</td>\n",
       "      <td>Dean Holland</td>\n",
       "      <td>Alan Yang</td>\n",
       "      <td>February 4, 2010</td>\n",
       "      <td>4.87[15]</td>\n",
       "      <td>The Parks Department makes a deal with a local...</td>\n",
       "    </tr>\n",
       "    <tr>\n",
       "      <th>22</th>\n",
       "      <td>16</td>\n",
       "      <td>\"Galentine's Day\"</td>\n",
       "      <td>Ken Kwapis</td>\n",
       "      <td>Michael Schur</td>\n",
       "      <td>February 11, 2010</td>\n",
       "      <td>4.98[16]</td>\n",
       "      <td>When Leslie hears the story of an old flame of...</td>\n",
       "    </tr>\n",
       "    <tr>\n",
       "      <th>23</th>\n",
       "      <td>17</td>\n",
       "      <td>\"Woman of the Year\"</td>\n",
       "      <td>Jason Woliner</td>\n",
       "      <td>Norm Hiscock</td>\n",
       "      <td>March 4, 2010</td>\n",
       "      <td>4.64[17]</td>\n",
       "      <td>Leslie becomes enraged when Ron wins a woman o...</td>\n",
       "    </tr>\n",
       "    <tr>\n",
       "      <th>24</th>\n",
       "      <td>18</td>\n",
       "      <td>\"The Possum\"</td>\n",
       "      <td>Tristram Shapeero</td>\n",
       "      <td>Mike Scully</td>\n",
       "      <td>March 11, 2010</td>\n",
       "      <td>4.61[18]</td>\n",
       "      <td>A local possum bites the mayor's dog on a golf...</td>\n",
       "    </tr>\n",
       "    <tr>\n",
       "      <th>25</th>\n",
       "      <td>19</td>\n",
       "      <td>\"Park Safety\"</td>\n",
       "      <td>Michael Trim</td>\n",
       "      <td>Aisha Muharrar</td>\n",
       "      <td>March 18, 2010</td>\n",
       "      <td>4.70[19]</td>\n",
       "      <td>Jerry (Jim O'Heir) gets mugged by a group of k...</td>\n",
       "    </tr>\n",
       "    <tr>\n",
       "      <th>26</th>\n",
       "      <td>20</td>\n",
       "      <td>\"Summer Catalog\"</td>\n",
       "      <td>Ken Whittingham</td>\n",
       "      <td>Katie Dippold</td>\n",
       "      <td>March 25, 2010</td>\n",
       "      <td>4.49[20]</td>\n",
       "      <td>Tasked with preparing the Summer Events Catalo...</td>\n",
       "    </tr>\n",
       "    <tr>\n",
       "      <th>27</th>\n",
       "      <td>21</td>\n",
       "      <td>\"94 Meetings\"</td>\n",
       "      <td>Tristram Shapeero</td>\n",
       "      <td>Harris Wittels</td>\n",
       "      <td>April 29, 2010</td>\n",
       "      <td>4.03[21]</td>\n",
       "      <td>When April accidentally scheduled all of Ron's...</td>\n",
       "    </tr>\n",
       "    <tr>\n",
       "      <th>28</th>\n",
       "      <td>22</td>\n",
       "      <td>\"Telethon\"</td>\n",
       "      <td>Troy Miller</td>\n",
       "      <td>Amy Poehler</td>\n",
       "      <td>May 6, 2010</td>\n",
       "      <td>4.03[22]</td>\n",
       "      <td>Leslie volunteers to co-host the Pawnee Cares ...</td>\n",
       "    </tr>\n",
       "    <tr>\n",
       "      <th>29</th>\n",
       "      <td>23</td>\n",
       "      <td>\"The Master Plan\"†</td>\n",
       "      <td>Dean Holland</td>\n",
       "      <td>Michael Schur</td>\n",
       "      <td>May 13, 2010</td>\n",
       "      <td>4.28[23]</td>\n",
       "      <td>Leslie's new park plans are put on hold by a v...</td>\n",
       "    </tr>\n",
       "    <tr>\n",
       "      <th>30</th>\n",
       "      <td>24</td>\n",
       "      <td>\"Freddy Spaghetti\"†</td>\n",
       "      <td>Jason Woliner</td>\n",
       "      <td>Dan Goor</td>\n",
       "      <td>May 20, 2010</td>\n",
       "      <td>4.55[24]</td>\n",
       "      <td>Ben and Chris have effectively shut down the g...</td>\n",
       "    </tr>\n",
       "    <tr>\n",
       "      <th>...</th>\n",
       "      <td>...</td>\n",
       "      <td>...</td>\n",
       "      <td>...</td>\n",
       "      <td>...</td>\n",
       "      <td>...</td>\n",
       "      <td>...</td>\n",
       "      <td>...</td>\n",
       "    </tr>\n",
       "    <tr>\n",
       "      <th>94</th>\n",
       "      <td>4</td>\n",
       "      <td>\"Doppelgängers\"</td>\n",
       "      <td>Jay Karas</td>\n",
       "      <td>Donick Cary</td>\n",
       "      <td>October 10, 2013</td>\n",
       "      <td>3.23[27]</td>\n",
       "      <td>Leslie pairs the Pawnee Parks Department with ...</td>\n",
       "    </tr>\n",
       "    <tr>\n",
       "      <th>95</th>\n",
       "      <td>5</td>\n",
       "      <td>\"Gin It Up!\"</td>\n",
       "      <td>Jorma Taccone</td>\n",
       "      <td>Matt Murray</td>\n",
       "      <td>October 17, 2013</td>\n",
       "      <td>3.27[28]</td>\n",
       "      <td>When Donna uses the department's Twitter accou...</td>\n",
       "    </tr>\n",
       "    <tr>\n",
       "      <th>96</th>\n",
       "      <td>6</td>\n",
       "      <td>\"Filibuster\"</td>\n",
       "      <td>Morgan Sackett</td>\n",
       "      <td>Harris Wittels</td>\n",
       "      <td>November 14, 2013</td>\n",
       "      <td>3.03[29]</td>\n",
       "      <td>Andy returns briefly from London, while Ron ta...</td>\n",
       "    </tr>\n",
       "    <tr>\n",
       "      <th>97</th>\n",
       "      <td>7</td>\n",
       "      <td>\"Recall Vote\"</td>\n",
       "      <td>Wendey Stanzler</td>\n",
       "      <td>Aisha Muharrar</td>\n",
       "      <td>November 14, 2013</td>\n",
       "      <td>3.03[29]</td>\n",
       "      <td>Leslie prepares Halloween festivities at town ...</td>\n",
       "    </tr>\n",
       "    <tr>\n",
       "      <th>98</th>\n",
       "      <td>8</td>\n",
       "      <td>\"Fluoride\"</td>\n",
       "      <td>Michael Trim</td>\n",
       "      <td>Matt Hubbard</td>\n",
       "      <td>November 21, 2013</td>\n",
       "      <td>2.81[30]</td>\n",
       "      <td>Leslie accepts that she has been recalled, and...</td>\n",
       "    </tr>\n",
       "    <tr>\n",
       "      <th>99</th>\n",
       "      <td>9</td>\n",
       "      <td>\"The Cones of Dunshire\"</td>\n",
       "      <td>Julie Anne Robinson</td>\n",
       "      <td>Dave King</td>\n",
       "      <td>November 21, 2013</td>\n",
       "      <td>2.81[30]</td>\n",
       "      <td>Leslie faces off with Councilman Jamm on a par...</td>\n",
       "    </tr>\n",
       "    <tr>\n",
       "      <th>100</th>\n",
       "      <td>10</td>\n",
       "      <td>\"Second Chunce\"†</td>\n",
       "      <td>Dean Holland</td>\n",
       "      <td>Amy Poehler &amp; Michael Schur</td>\n",
       "      <td>January 9, 2014</td>\n",
       "      <td>3.43[31]</td>\n",
       "      <td>Leslie comes to terms on her last days in offi...</td>\n",
       "    </tr>\n",
       "    <tr>\n",
       "      <th>101</th>\n",
       "      <td>11</td>\n",
       "      <td>\"New Beginnings\"</td>\n",
       "      <td>Alan Yang</td>\n",
       "      <td>Sam Means</td>\n",
       "      <td>January 16, 2014</td>\n",
       "      <td>3.05[32]</td>\n",
       "      <td>Leslie returns to her old job and Ben becomes ...</td>\n",
       "    </tr>\n",
       "    <tr>\n",
       "      <th>102</th>\n",
       "      <td>12</td>\n",
       "      <td>\"Farmers Market\"</td>\n",
       "      <td>Adam Scott</td>\n",
       "      <td>Joe Mande</td>\n",
       "      <td>January 23, 2014</td>\n",
       "      <td>2.98[33]</td>\n",
       "      <td>Leslie fights with Ben over the ways the new F...</td>\n",
       "    </tr>\n",
       "    <tr>\n",
       "      <th>103</th>\n",
       "      <td>13</td>\n",
       "      <td>\"Ann and Chris\"</td>\n",
       "      <td>Dean Holland</td>\n",
       "      <td>Aisha Muharrar &amp; Michael Schur</td>\n",
       "      <td>January 30, 2014</td>\n",
       "      <td>3.03[34]</td>\n",
       "      <td>Leslie throws a goodbye party for Ann and Chri...</td>\n",
       "    </tr>\n",
       "    <tr>\n",
       "      <th>104</th>\n",
       "      <td>14</td>\n",
       "      <td>\"Anniversaries\"</td>\n",
       "      <td>Morgan Sackett</td>\n",
       "      <td>Megan Amram</td>\n",
       "      <td>February 27, 2014</td>\n",
       "      <td>2.52[35]</td>\n",
       "      <td>Ben tries to surprise Leslie with an anniversa...</td>\n",
       "    </tr>\n",
       "    <tr>\n",
       "      <th>105</th>\n",
       "      <td>15</td>\n",
       "      <td>\"The Wall\"</td>\n",
       "      <td>Ken Whittingham</td>\n",
       "      <td>Jen Statsky</td>\n",
       "      <td>March 6, 2014</td>\n",
       "      <td>2.95[36]</td>\n",
       "      <td>Ben and Tom try to get sponsors for the Pawnee...</td>\n",
       "    </tr>\n",
       "    <tr>\n",
       "      <th>106</th>\n",
       "      <td>16</td>\n",
       "      <td>\"New Slogan\"</td>\n",
       "      <td>Dean Holland</td>\n",
       "      <td>Alan Yang &amp; Sam Means</td>\n",
       "      <td>March 13, 2014</td>\n",
       "      <td>2.72[37]</td>\n",
       "      <td>Ben revamps the Pawnee website, on which Lesli...</td>\n",
       "    </tr>\n",
       "    <tr>\n",
       "      <th>107</th>\n",
       "      <td>17</td>\n",
       "      <td>\"Galentine's Day\"</td>\n",
       "      <td>Beth McCarthy-Miller</td>\n",
       "      <td>Emma Fletcher &amp; Rachna Fruchbom</td>\n",
       "      <td>March 20, 2014</td>\n",
       "      <td>3.05[38]</td>\n",
       "      <td>Leslie throws a Galentine's Day brunch in an e...</td>\n",
       "    </tr>\n",
       "    <tr>\n",
       "      <th>108</th>\n",
       "      <td>18</td>\n",
       "      <td>\"Prom\"</td>\n",
       "      <td>Ken Whittingham</td>\n",
       "      <td>Matt Murray &amp; Harris Wittels</td>\n",
       "      <td>April 3, 2014</td>\n",
       "      <td>2.67[39]</td>\n",
       "      <td>After it is cut from the budget, Leslie brings...</td>\n",
       "    </tr>\n",
       "    <tr>\n",
       "      <th>109</th>\n",
       "      <td>19</td>\n",
       "      <td>\"Flu Season 2\"†</td>\n",
       "      <td>Nick Offerman</td>\n",
       "      <td>Megan Amram &amp; Dave King</td>\n",
       "      <td>April 10, 2014</td>\n",
       "      <td>2.56[40]</td>\n",
       "      <td>Leslie and Andy try to find music for the unit...</td>\n",
       "    </tr>\n",
       "    <tr>\n",
       "      <th>110</th>\n",
       "      <td>20</td>\n",
       "      <td>\"One in 8,000\"</td>\n",
       "      <td>Dean Holland</td>\n",
       "      <td>Donick Cary &amp; Joe Mande</td>\n",
       "      <td>April 17, 2014</td>\n",
       "      <td>2.39[41]</td>\n",
       "      <td>Leslie and Ben try to keep Leslie's pregnancy ...</td>\n",
       "    </tr>\n",
       "    <tr>\n",
       "      <th>111112</th>\n",
       "      <td>2122</td>\n",
       "      <td>\"Moving Up\"†‡</td>\n",
       "      <td>Michael Schur</td>\n",
       "      <td>Aisha Muharrar &amp; Alan Yang</td>\n",
       "      <td>April 24, 2014</td>\n",
       "      <td>2.71[42]</td>\n",
       "      <td>Leslie, Ben and Andy visit San Francisco for a...</td>\n",
       "    </tr>\n",
       "    <tr>\n",
       "      <th>113</th>\n",
       "      <td>1</td>\n",
       "      <td>\"2017\"</td>\n",
       "      <td>Dean Holland</td>\n",
       "      <td>Alan Yang &amp; Matt Murray</td>\n",
       "      <td>January 13, 2015</td>\n",
       "      <td>3.75[18]</td>\n",
       "      <td>Three years into the future, Leslie is Midwest...</td>\n",
       "    </tr>\n",
       "    <tr>\n",
       "      <th>114</th>\n",
       "      <td>2</td>\n",
       "      <td>\"Ron and Jammy\"†</td>\n",
       "      <td>Dean Holland</td>\n",
       "      <td>Harris Wittels</td>\n",
       "      <td>January 13, 2015</td>\n",
       "      <td>3.25[18]</td>\n",
       "      <td>Leslie and Ron try to sway Councilman Jamm's v...</td>\n",
       "    </tr>\n",
       "    <tr>\n",
       "      <th>115</th>\n",
       "      <td>3</td>\n",
       "      <td>\"William Henry Harrison\"</td>\n",
       "      <td>Tom Magill</td>\n",
       "      <td>Megan Amram</td>\n",
       "      <td>January 20, 2015</td>\n",
       "      <td>3.87[19]</td>\n",
       "      <td>Leslie continues to strengthen her case to tur...</td>\n",
       "    </tr>\n",
       "    <tr>\n",
       "      <th>116</th>\n",
       "      <td>4</td>\n",
       "      <td>\"Leslie and Ron\"</td>\n",
       "      <td>Beth McCarthy-Miller</td>\n",
       "      <td>Michael Schur</td>\n",
       "      <td>January 20, 2015</td>\n",
       "      <td>3.30[19]</td>\n",
       "      <td>Ben, April, Andy, Donna, Tom, and Terry trap R...</td>\n",
       "    </tr>\n",
       "    <tr>\n",
       "      <th>117</th>\n",
       "      <td>5</td>\n",
       "      <td>\"Gryzzlbox\"</td>\n",
       "      <td>Amy Poehler</td>\n",
       "      <td>Donick Cary</td>\n",
       "      <td>January 27, 2015</td>\n",
       "      <td>3.48[20]</td>\n",
       "      <td>The citizens of Pawnee feel violated when Gryz...</td>\n",
       "    </tr>\n",
       "    <tr>\n",
       "      <th>118</th>\n",
       "      <td>6</td>\n",
       "      <td>\"Save JJ's\"</td>\n",
       "      <td>Ken Whittingham</td>\n",
       "      <td>Joe Mande</td>\n",
       "      <td>January 27, 2015</td>\n",
       "      <td>2.97[20]</td>\n",
       "      <td>Following the data mining scandal, Gryzzl ups ...</td>\n",
       "    </tr>\n",
       "    <tr>\n",
       "      <th>119</th>\n",
       "      <td>7</td>\n",
       "      <td>\"Donna and Joe\"</td>\n",
       "      <td>Ken Whittingham</td>\n",
       "      <td>Aisha Muharrar</td>\n",
       "      <td>February 3, 2015</td>\n",
       "      <td>3.45[21]</td>\n",
       "      <td>It's Donna's wedding day, and as her Maid of H...</td>\n",
       "    </tr>\n",
       "    <tr>\n",
       "      <th>120</th>\n",
       "      <td>8</td>\n",
       "      <td>\"Ms. Ludgate-Dwyer Goes to Washington\"</td>\n",
       "      <td>Morgan Sackett</td>\n",
       "      <td>Dave King</td>\n",
       "      <td>February 10, 2015</td>\n",
       "      <td>3.06[22]</td>\n",
       "      <td>Leslie takes April to Washington D.C. on a DoI...</td>\n",
       "    </tr>\n",
       "    <tr>\n",
       "      <th>121</th>\n",
       "      <td>9</td>\n",
       "      <td>\"Pie-Mary\"†</td>\n",
       "      <td>Greg Daniels</td>\n",
       "      <td>Emma Fletcher &amp; Rachna Fruchbom</td>\n",
       "      <td>February 10, 2015</td>\n",
       "      <td>2.47[22]</td>\n",
       "      <td>Leslie becomes the center of attention when, a...</td>\n",
       "    </tr>\n",
       "    <tr>\n",
       "      <th>122</th>\n",
       "      <td>10</td>\n",
       "      <td>\"The Johnny Karate Super Awesome Musical Explo...</td>\n",
       "      <td>Dean Holland</td>\n",
       "      <td>Matt Hubbard</td>\n",
       "      <td>February 17, 2015</td>\n",
       "      <td>2.94[23]</td>\n",
       "      <td>Andy hosts the final episode of his children's...</td>\n",
       "    </tr>\n",
       "    <tr>\n",
       "      <th>123</th>\n",
       "      <td>11</td>\n",
       "      <td>\"Two Funerals\"</td>\n",
       "      <td>Craig Zisk</td>\n",
       "      <td>Jen Statsky</td>\n",
       "      <td>February 17, 2015</td>\n",
       "      <td>2.47[23]</td>\n",
       "      <td>Leslie confirms that she is receiving the job ...</td>\n",
       "    </tr>\n",
       "    <tr>\n",
       "      <th>124125</th>\n",
       "      <td>1213</td>\n",
       "      <td>\"One Last Ride\"†‡</td>\n",
       "      <td>Michael Schur</td>\n",
       "      <td>Michael Schur &amp; Amy Poehler</td>\n",
       "      <td>February 24, 2015</td>\n",
       "      <td>4.15[25]</td>\n",
       "      <td>In the last day in Pawnee, Leslie rallies the ...</td>\n",
       "    </tr>\n",
       "  </tbody>\n",
       "</table>\n",
       "<p>122 rows × 7 columns</p>\n",
       "</div>"
      ],
      "text/plain": [
       "           No. inseason                                              Title  \\\n",
       "No.overall                                                                   \n",
       "1                     1                                            \"Pilot\"   \n",
       "2                     2                                       \"Canvassing\"   \n",
       "3                     3                                     \"The Reporter\"   \n",
       "4                     4                                       \"Boys' Club\"   \n",
       "5                     5                                      \"The Banquet\"   \n",
       "6                     6                                       \"Rock Show\"†   \n",
       "7                     1                                       \"Pawnee Zoo\"   \n",
       "8                     2                                     \"The Stakeout\"   \n",
       "9                     3                                   \"Beauty Pageant\"   \n",
       "10                    4                                    \"Practice Date\"   \n",
       "11                    5                                      \"Sister City\"   \n",
       "12                    6                                           \"Kaboom\"   \n",
       "13                    7                                     \"Greg Pikitis\"   \n",
       "14                    8                                    \"Ron and Tammy\"   \n",
       "15                    9                                        \"The Camel\"   \n",
       "16                   10                                     \"Hunting Trip\"   \n",
       "17                   11                                    \"Tom's Divorce\"   \n",
       "18                   12                                \"Christmas Scandal\"   \n",
       "19                   13                                      \"The Set Up\"†   \n",
       "20                   14                                   \"Leslie's House\"   \n",
       "21                   15                                         \"Sweetums\"   \n",
       "22                   16                                  \"Galentine's Day\"   \n",
       "23                   17                                \"Woman of the Year\"   \n",
       "24                   18                                       \"The Possum\"   \n",
       "25                   19                                      \"Park Safety\"   \n",
       "26                   20                                   \"Summer Catalog\"   \n",
       "27                   21                                      \"94 Meetings\"   \n",
       "28                   22                                         \"Telethon\"   \n",
       "29                   23                                 \"The Master Plan\"†   \n",
       "30                   24                                \"Freddy Spaghetti\"†   \n",
       "...                 ...                                                ...   \n",
       "94                    4                                    \"Doppelgängers\"   \n",
       "95                    5                                       \"Gin It Up!\"   \n",
       "96                    6                                       \"Filibuster\"   \n",
       "97                    7                                      \"Recall Vote\"   \n",
       "98                    8                                         \"Fluoride\"   \n",
       "99                    9                            \"The Cones of Dunshire\"   \n",
       "100                  10                                   \"Second Chunce\"†   \n",
       "101                  11                                   \"New Beginnings\"   \n",
       "102                  12                                   \"Farmers Market\"   \n",
       "103                  13                                    \"Ann and Chris\"   \n",
       "104                  14                                    \"Anniversaries\"   \n",
       "105                  15                                         \"The Wall\"   \n",
       "106                  16                                       \"New Slogan\"   \n",
       "107                  17                                  \"Galentine's Day\"   \n",
       "108                  18                                             \"Prom\"   \n",
       "109                  19                                    \"Flu Season 2\"†   \n",
       "110                  20                                     \"One in 8,000\"   \n",
       "111112             2122                                      \"Moving Up\"†‡   \n",
       "113                   1                                             \"2017\"   \n",
       "114                   2                                   \"Ron and Jammy\"†   \n",
       "115                   3                           \"William Henry Harrison\"   \n",
       "116                   4                                   \"Leslie and Ron\"   \n",
       "117                   5                                        \"Gryzzlbox\"   \n",
       "118                   6                                        \"Save JJ's\"   \n",
       "119                   7                                    \"Donna and Joe\"   \n",
       "120                   8             \"Ms. Ludgate-Dwyer Goes to Washington\"   \n",
       "121                   9                                        \"Pie-Mary\"†   \n",
       "122                  10  \"The Johnny Karate Super Awesome Musical Explo...   \n",
       "123                  11                                     \"Two Funerals\"   \n",
       "124125             1213                                  \"One Last Ride\"†‡   \n",
       "\n",
       "                     Directed by                       Written by  \\\n",
       "No.overall                                                          \n",
       "1                   Greg Daniels     Greg Daniels & Michael Schur   \n",
       "2                    Seth Gordon                     Rachel Axler   \n",
       "3                  Jeffrey Blitz                         Dan Goor   \n",
       "4              Michael McCullers                        Alan Yang   \n",
       "5           Beth McCarthy-Miller                    Tucker Cawley   \n",
       "6                  Michael Schur                     Norm Hiscock   \n",
       "7                      Paul Feig                     Norm Hiscock   \n",
       "8                    Seth Gordon                     Rachel Axler   \n",
       "9                  Jason Woliner                    Katie Dippold   \n",
       "10               Alex Hardcastle                   Harris Wittels   \n",
       "11                 Michael Schur                        Alan Yang   \n",
       "12             Charles McDougall                   Aisha Muharrar   \n",
       "13                  Dean Holland                    Michael Schur   \n",
       "14                   Troy Miller                      Mike Scully   \n",
       "15             Millicent Shelton                     Rachel Axler   \n",
       "16                  Greg Daniels                         Dan Goor   \n",
       "17                   Troy Miller                   Harris Wittels   \n",
       "18               Randall Einhorn                    Michael Schur   \n",
       "19                   Troy Miller                    Katie Dippold   \n",
       "20               Alex Hardcastle                         Dan Goor   \n",
       "21                  Dean Holland                        Alan Yang   \n",
       "22                    Ken Kwapis                    Michael Schur   \n",
       "23                 Jason Woliner                     Norm Hiscock   \n",
       "24             Tristram Shapeero                      Mike Scully   \n",
       "25                  Michael Trim                   Aisha Muharrar   \n",
       "26               Ken Whittingham                    Katie Dippold   \n",
       "27             Tristram Shapeero                   Harris Wittels   \n",
       "28                   Troy Miller                      Amy Poehler   \n",
       "29                  Dean Holland                    Michael Schur   \n",
       "30                 Jason Woliner                         Dan Goor   \n",
       "...                          ...                              ...   \n",
       "94                     Jay Karas                      Donick Cary   \n",
       "95                 Jorma Taccone                      Matt Murray   \n",
       "96                Morgan Sackett                   Harris Wittels   \n",
       "97               Wendey Stanzler                   Aisha Muharrar   \n",
       "98                  Michael Trim                     Matt Hubbard   \n",
       "99           Julie Anne Robinson                        Dave King   \n",
       "100                 Dean Holland      Amy Poehler & Michael Schur   \n",
       "101                    Alan Yang                        Sam Means   \n",
       "102                   Adam Scott                        Joe Mande   \n",
       "103                 Dean Holland   Aisha Muharrar & Michael Schur   \n",
       "104               Morgan Sackett                      Megan Amram   \n",
       "105              Ken Whittingham                      Jen Statsky   \n",
       "106                 Dean Holland            Alan Yang & Sam Means   \n",
       "107         Beth McCarthy-Miller  Emma Fletcher & Rachna Fruchbom   \n",
       "108              Ken Whittingham     Matt Murray & Harris Wittels   \n",
       "109                Nick Offerman          Megan Amram & Dave King   \n",
       "110                 Dean Holland          Donick Cary & Joe Mande   \n",
       "111112             Michael Schur       Aisha Muharrar & Alan Yang   \n",
       "113                 Dean Holland          Alan Yang & Matt Murray   \n",
       "114                 Dean Holland                   Harris Wittels   \n",
       "115                   Tom Magill                      Megan Amram   \n",
       "116         Beth McCarthy-Miller                    Michael Schur   \n",
       "117                  Amy Poehler                      Donick Cary   \n",
       "118              Ken Whittingham                        Joe Mande   \n",
       "119              Ken Whittingham                   Aisha Muharrar   \n",
       "120               Morgan Sackett                        Dave King   \n",
       "121                 Greg Daniels  Emma Fletcher & Rachna Fruchbom   \n",
       "122                 Dean Holland                     Matt Hubbard   \n",
       "123                   Craig Zisk                      Jen Statsky   \n",
       "124125             Michael Schur      Michael Schur & Amy Poehler   \n",
       "\n",
       "             Original air date U.S. viewers(millions)  \\\n",
       "No.overall                                              \n",
       "1                April 9, 2009                6.77[4]   \n",
       "2               April 16, 2009                5.92[5]   \n",
       "3               April 23, 2009                5.24[6]   \n",
       "4               April 30, 2009                5.29[7]   \n",
       "5                  May 7, 2009                4.64[8]   \n",
       "6                 May 14, 2009                4.25[9]   \n",
       "7           September 17, 2009                5.00[1]   \n",
       "8           September 24, 2009                4.22[2]   \n",
       "9              October 1, 2009                4.63[3]   \n",
       "10             October 8, 2009                4.97[4]   \n",
       "11            October 15, 2009                4.69[5]   \n",
       "12            October 22, 2009                4.98[6]   \n",
       "13            October 29, 2009                4.96[7]   \n",
       "14            November 5, 2009                4.94[8]   \n",
       "15           November 12, 2009                4.67[9]   \n",
       "16           November 19, 2009               4.61[10]   \n",
       "17            December 3, 2009               4.83[11]   \n",
       "18           December 10, 2009               4.90[12]   \n",
       "19            January 14, 2010               4.59[13]   \n",
       "20            January 21, 2010               4.35[14]   \n",
       "21            February 4, 2010               4.87[15]   \n",
       "22           February 11, 2010               4.98[16]   \n",
       "23               March 4, 2010               4.64[17]   \n",
       "24              March 11, 2010               4.61[18]   \n",
       "25              March 18, 2010               4.70[19]   \n",
       "26              March 25, 2010               4.49[20]   \n",
       "27              April 29, 2010               4.03[21]   \n",
       "28                 May 6, 2010               4.03[22]   \n",
       "29                May 13, 2010               4.28[23]   \n",
       "30                May 20, 2010               4.55[24]   \n",
       "...                        ...                    ...   \n",
       "94            October 10, 2013               3.23[27]   \n",
       "95            October 17, 2013               3.27[28]   \n",
       "96           November 14, 2013               3.03[29]   \n",
       "97           November 14, 2013               3.03[29]   \n",
       "98           November 21, 2013               2.81[30]   \n",
       "99           November 21, 2013               2.81[30]   \n",
       "100            January 9, 2014               3.43[31]   \n",
       "101           January 16, 2014               3.05[32]   \n",
       "102           January 23, 2014               2.98[33]   \n",
       "103           January 30, 2014               3.03[34]   \n",
       "104          February 27, 2014               2.52[35]   \n",
       "105              March 6, 2014               2.95[36]   \n",
       "106             March 13, 2014               2.72[37]   \n",
       "107             March 20, 2014               3.05[38]   \n",
       "108              April 3, 2014               2.67[39]   \n",
       "109             April 10, 2014               2.56[40]   \n",
       "110             April 17, 2014               2.39[41]   \n",
       "111112          April 24, 2014               2.71[42]   \n",
       "113           January 13, 2015               3.75[18]   \n",
       "114           January 13, 2015               3.25[18]   \n",
       "115           January 20, 2015               3.87[19]   \n",
       "116           January 20, 2015               3.30[19]   \n",
       "117           January 27, 2015               3.48[20]   \n",
       "118           January 27, 2015               2.97[20]   \n",
       "119           February 3, 2015               3.45[21]   \n",
       "120          February 10, 2015               3.06[22]   \n",
       "121          February 10, 2015               2.47[22]   \n",
       "122          February 17, 2015               2.94[23]   \n",
       "123          February 17, 2015               2.47[23]   \n",
       "124125       February 24, 2015               4.15[25]   \n",
       "\n",
       "                                                  Description  \n",
       "No.overall                                                     \n",
       "1           Ann Perkins (Rashida Jones) attends a town mee...  \n",
       "2           Leslie and the pit subcommittee canvas neighbo...  \n",
       "3           Leslie invites a local reporter (Alison Becker...  \n",
       "4           As Andy cleans up the house to surprise Ann, L...  \n",
       "5           During a banquet honoring her mother's public ...  \n",
       "6           Leslie attends what she believes is a business...  \n",
       "7           In order to promote the Pawnee Zoo, Leslie (Am...  \n",
       "8           While taking care of the new community garden,...  \n",
       "9           Leslie will be judging the annual Miss Pawnee ...  \n",
       "10          Her first date with Dave is approaching fast, ...  \n",
       "11          Leslie plays host to the visiting party from t...  \n",
       "12          Leslie and the rest of the committee help a lo...  \n",
       "13          Leslie enlists the help of Dave (guest star Lo...  \n",
       "14          Leslie is upset when she learns the library de...  \n",
       "15          One of the city hall murals is defaced, which ...  \n",
       "16          Trying to prove that she is capable of just ha...  \n",
       "17          When Ron sends Leslie up to the DMV, she accid...  \n",
       "18          While designing the Pawnee Winter Wonderland F...  \n",
       "19          With Dave out of the picture, Ann decides to s...  \n",
       "20          After Leslie and Justin have a series of great...  \n",
       "21          The Parks Department makes a deal with a local...  \n",
       "22          When Leslie hears the story of an old flame of...  \n",
       "23          Leslie becomes enraged when Ron wins a woman o...  \n",
       "24          A local possum bites the mayor's dog on a golf...  \n",
       "25          Jerry (Jim O'Heir) gets mugged by a group of k...  \n",
       "26          Tasked with preparing the Summer Events Catalo...  \n",
       "27          When April accidentally scheduled all of Ron's...  \n",
       "28          Leslie volunteers to co-host the Pawnee Cares ...  \n",
       "29          Leslie's new park plans are put on hold by a v...  \n",
       "30          Ben and Chris have effectively shut down the g...  \n",
       "...                                                       ...  \n",
       "94          Leslie pairs the Pawnee Parks Department with ...  \n",
       "95          When Donna uses the department's Twitter accou...  \n",
       "96          Andy returns briefly from London, while Ron ta...  \n",
       "97          Leslie prepares Halloween festivities at town ...  \n",
       "98          Leslie accepts that she has been recalled, and...  \n",
       "99          Leslie faces off with Councilman Jamm on a par...  \n",
       "100         Leslie comes to terms on her last days in offi...  \n",
       "101         Leslie returns to her old job and Ben becomes ...  \n",
       "102         Leslie fights with Ben over the ways the new F...  \n",
       "103         Leslie throws a goodbye party for Ann and Chri...  \n",
       "104         Ben tries to surprise Leslie with an anniversa...  \n",
       "105         Ben and Tom try to get sponsors for the Pawnee...  \n",
       "106         Ben revamps the Pawnee website, on which Lesli...  \n",
       "107         Leslie throws a Galentine's Day brunch in an e...  \n",
       "108         After it is cut from the budget, Leslie brings...  \n",
       "109         Leslie and Andy try to find music for the unit...  \n",
       "110         Leslie and Ben try to keep Leslie's pregnancy ...  \n",
       "111112      Leslie, Ben and Andy visit San Francisco for a...  \n",
       "113         Three years into the future, Leslie is Midwest...  \n",
       "114         Leslie and Ron try to sway Councilman Jamm's v...  \n",
       "115         Leslie continues to strengthen her case to tur...  \n",
       "116         Ben, April, Andy, Donna, Tom, and Terry trap R...  \n",
       "117         The citizens of Pawnee feel violated when Gryz...  \n",
       "118         Following the data mining scandal, Gryzzl ups ...  \n",
       "119         It's Donna's wedding day, and as her Maid of H...  \n",
       "120         Leslie takes April to Washington D.C. on a DoI...  \n",
       "121         Leslie becomes the center of attention when, a...  \n",
       "122         Andy hosts the final episode of his children's...  \n",
       "123         Leslie confirms that she is receiving the job ...  \n",
       "124125      In the last day in Pawnee, Leslie rallies the ...  \n",
       "\n",
       "[122 rows x 7 columns]"
      ]
     },
     "execution_count": 45,
     "metadata": {},
     "output_type": "execute_result"
    }
   ],
   "source": [
    "full_episodes"
   ]
  },
  {
   "cell_type": "code",
   "execution_count": null,
   "metadata": {},
   "outputs": [],
   "source": [
    "episodes = pd.read_html(r'https://en.wikipedia.org/wiki/Parks_and_Recreation_%28season_4%29',header=0)\n",
    "episodes"
   ]
  },
  {
   "cell_type": "markdown",
   "metadata": {},
   "source": [
    "Above, we've passed two arguments to the pd.read_html() method. First, we're passing the URL. Pandas will use other installed libraries to connect to this URL and begin extracting the tables as a list. We're also specifying that the first row (0) is where the header information is.\n",
    "\n",
    "In the resulting text, notice the '[' at the beginning, and the ']' all the way at the end? That should be an indication that it is a list.  Of course you could always:"
   ]
  },
  {
   "cell_type": "code",
   "execution_count": null,
   "metadata": {},
   "outputs": [],
   "source": [
    "type(episodes)"
   ]
  },
  {
   "cell_type": "markdown",
   "metadata": {},
   "source": [
    "Since it is a list, it can be sliced. We just need to figure out which slice we want. Is it the first one? (remember, Python is zero-indexed.)"
   ]
  },
  {
   "cell_type": "code",
   "execution_count": null,
   "metadata": {},
   "outputs": [],
   "source": [
    "episodes[0]"
   ]
  },
  {
   "cell_type": "markdown",
   "metadata": {},
   "source": [
    "While we could do some things with this, this table isn't the full data we're looking to process. For this page, we're looking at the second table, or `episodes[1]`. We'll go ahead and assign that to a variable we're calling 'season'."
   ]
  },
  {
   "cell_type": "code",
   "execution_count": null,
   "metadata": {
    "scrolled": false
   },
   "outputs": [],
   "source": [
    "season = episodes[1]\n",
    "season"
   ]
  },
  {
   "cell_type": "markdown",
   "metadata": {},
   "source": [
    "Notice here that there are a bunch of cells with 'NaN' in them. We talked about 'Not a Number' before, and again NumPy is saying that it couldn't find or interpret data here. We could use some Pandas functions to deal with these cells."
   ]
  },
  {
   "cell_type": "code",
   "execution_count": null,
   "metadata": {
    "scrolled": true
   },
   "outputs": [],
   "source": [
    "season.dropna()"
   ]
  },
  {
   "cell_type": "markdown",
   "metadata": {},
   "source": [
    "The .dropna() method effectively drops any rows where there are one or more NaN entries. Unfortunately, while there were rows that contained NaN, there were still some cells in those rows with data in them. By default, .dropna() has the argument **how='any'**. Meaning, if a row contains one or more NaN, then .dropna() will drop it. Instead, we can use .dropna(how='all'). This will only drop rows where all cells are NaN."
   ]
  },
  {
   "cell_type": "code",
   "execution_count": null,
   "metadata": {
    "scrolled": false
   },
   "outputs": [],
   "source": [
    "season.dropna(how='all')"
   ]
  },
  {
   "cell_type": "markdown",
   "metadata": {},
   "source": [
    "This doesn't show anything here, as we don't have any rows that are completely filled with NaN. But, we can use .fillna() to automatically change that value to something else that may be relevant to your data collection methods."
   ]
  },
  {
   "cell_type": "code",
   "execution_count": null,
   "metadata": {},
   "outputs": [],
   "source": [
    "season.fillna(-999)"
   ]
  },
  {
   "cell_type": "markdown",
   "metadata": {},
   "source": [
    ".fillna() has multiple methods, like forward fill, backward fill, interpolation."
   ]
  },
  {
   "cell_type": "code",
   "execution_count": null,
   "metadata": {},
   "outputs": [],
   "source": [
    "season.fillna?"
   ]
  },
  {
   "cell_type": "code",
   "execution_count": null,
   "metadata": {},
   "outputs": [],
   "source": [
    "season.fillna(method='bfill')"
   ]
  },
  {
   "cell_type": "markdown",
   "metadata": {},
   "source": [
    "while .fillna() is useful, the information contained in surrounding cells isn't that useful to us. It appears that in the case of this table, the first row (row 0) and each alternating row has information about the episode, and the second row (row 1) and each alternating row has the episode description of the previous episode. How do we deal with that? Slices, of course!"
   ]
  },
  {
   "cell_type": "code",
   "execution_count": null,
   "metadata": {},
   "outputs": [],
   "source": [
    "season[1::2]"
   ]
  },
  {
   "cell_type": "markdown",
   "metadata": {},
   "source": [
    "These slices will get us the descriptions alone, but we repeating the content over a bunch of cells, and it's extraneous. Let's drop those using the indexers."
   ]
  },
  {
   "cell_type": "code",
   "execution_count": null,
   "metadata": {},
   "outputs": [],
   "source": [
    "season[1::2].iloc[:,0]"
   ]
  },
  {
   "cell_type": "markdown",
   "metadata": {},
   "source": [
    "Pandas really wants to maintain the indices, which is usually really helpful - it helps prevent data mismatches down the road. But, what if we really want to ignore the index? We can reset it."
   ]
  },
  {
   "cell_type": "code",
   "execution_count": null,
   "metadata": {},
   "outputs": [],
   "source": [
    "season[1::2].iloc[:,0].reset_index()"
   ]
  },
  {
   "cell_type": "markdown",
   "metadata": {},
   "source": [
    "Here we have created a new index, but Pandas (trying to save us from ourselves) has kept the index values from before, but in a separate Series within the new DataFrame. All we have to do now is drop it. While we're at it, let's go ahead and create an episode description variable and set it equal to this new series."
   ]
  },
  {
   "cell_type": "code",
   "execution_count": null,
   "metadata": {},
   "outputs": [],
   "source": [
    "episode_desc = season[1::2].iloc[:,0].reset_index().drop('index',axis=1)\n",
    "episode_desc"
   ]
  },
  {
   "cell_type": "markdown",
   "metadata": {},
   "source": [
    "The column name (No. Overall) doesn't make any sense, so we'll use the `.rename()` method to rename the columns using a dictionary with a single key-value pair."
   ]
  },
  {
   "cell_type": "code",
   "execution_count": null,
   "metadata": {
    "scrolled": true
   },
   "outputs": [],
   "source": [
    "episode_desc = episode_desc.rename(columns = {'No.overall':'Description'})\n",
    "episode_desc"
   ]
  },
  {
   "cell_type": "markdown",
   "metadata": {},
   "source": [
    "For the other cells in the season dataframe, we want to start at the first row (row 0) and alternate getting all of the ones with the data. Since the procedure will be almost exactly the same as before, we'll skip ahead to the final part. We'll also drop any columns that don't contribute much."
   ]
  },
  {
   "cell_type": "code",
   "execution_count": null,
   "metadata": {
    "scrolled": true
   },
   "outputs": [],
   "source": [
    "episode_data = season[0::2].reset_index().drop('index',axis=1)\n",
    "episode_data = episode_data.drop('Unnamed: 7',axis=1)\n",
    "episode_data"
   ]
  },
  {
   "cell_type": "markdown",
   "metadata": {},
   "source": [
    "Now we have a list of data and a list of descriptions. By wonderful coincidence (not really), they both have the same number of cells. Let's check to be certain."
   ]
  },
  {
   "cell_type": "markdown",
   "metadata": {},
   "source": [
    "aside: programming languages are funny about the equals sign '='. A lot of times, we want to see if something is equal to something else. Python assumes that a single equals means that you are **making a thing equal to some other thing**.\n",
    "\n",
    "If you want to check to see if two entities *are equal* then you will use the double equal '=='\n",
    "\n",
    "single = 'is'\n",
    "\n",
    "`age = 5`\n",
    "\n",
    "age _is_ 5\n",
    "\n",
    "double == 'is it'\n",
    "\n",
    "`age == 5`\n",
    "\n",
    "age, _is it_ 5?\n",
    "\n",
    "this is a largely semantic discussion, but you would be surprised how often it causes problems."
   ]
  },
  {
   "cell_type": "code",
   "execution_count": null,
   "metadata": {},
   "outputs": [],
   "source": [
    "len(episode_data) == len(episode_desc)"
   ]
  },
  {
   "cell_type": "markdown",
   "metadata": {},
   "source": [
    "Now, let's concatenate the data DataFrame, and the description Series. Remember to specify axis."
   ]
  },
  {
   "cell_type": "code",
   "execution_count": null,
   "metadata": {},
   "outputs": [],
   "source": [
    "episode_list = pd.concat([episode_data,episode_desc],axis=1)"
   ]
  },
  {
   "cell_type": "markdown",
   "metadata": {},
   "source": [
    "Checking the column heads just to be certain."
   ]
  },
  {
   "cell_type": "code",
   "execution_count": null,
   "metadata": {},
   "outputs": [],
   "source": [
    "episode_list.columns"
   ]
  },
  {
   "cell_type": "markdown",
   "metadata": {},
   "source": [
    "Setting the index to one of the unique Series in the DataFrame. 'No. Overall' makes sense."
   ]
  },
  {
   "cell_type": "code",
   "execution_count": null,
   "metadata": {
    "scrolled": true
   },
   "outputs": [],
   "source": [
    "episode_list = episode_list.set_index('No.overall')"
   ]
  },
  {
   "cell_type": "code",
   "execution_count": null,
   "metadata": {},
   "outputs": [],
   "source": [
    "episode_list"
   ]
  },
  {
   "cell_type": "markdown",
   "metadata": {},
   "source": [
    "For the sake of space, the preview here doesn't show all the information, but you can definitely check the contents by using the `.values` property."
   ]
  },
  {
   "cell_type": "code",
   "execution_count": null,
   "metadata": {
    "scrolled": true
   },
   "outputs": [],
   "source": [
    "episode_list['Description'].values"
   ]
  },
  {
   "cell_type": "code",
   "execution_count": null,
   "metadata": {},
   "outputs": [],
   "source": [
    "type(episode_list['Description'])"
   ]
  },
  {
   "cell_type": "code",
   "execution_count": null,
   "metadata": {},
   "outputs": [],
   "source": [
    "type(episode_list)"
   ]
  },
  {
   "cell_type": "markdown",
   "metadata": {},
   "source": [
    "Indexers can be used like slices. They have the brackets and colons, but they can also be used in conjunction with commas to indicate two dimensions. In the first example, we use our knowledge of slices on a DataFrame to separate content out in two different ways. We're also using the NumPy `.all()` method to verify that the two sections are equivalent. We can also check the number of entries by using the `.len()` method."
   ]
  },
  {
   "cell_type": "code",
   "execution_count": null,
   "metadata": {},
   "outputs": [],
   "source": [
    "print(np.all(season[1::2].iloc[:,0] == season.iloc[1::2,0]))\n",
    "print(len(season[1::2].iloc[:,0]))\n",
    "print(len(season.iloc[1::2,0]))"
   ]
  },
  {
   "cell_type": "markdown",
   "metadata": {},
   "source": [
    "Be careful when mixing integers with strings for `.loc[]` and `.iloc[]`. Since they both return dataframes (try `type()`) you can always nest the functions if needed. Also, if you need non-contiguous ranges, you can use tuples. We haven't talked much about tuples, but they're basically lists that are _immutable_ to a degree. We won't go too far down this road. Basically, if it looks like a list, but it's surrounded by parentheses, it's a tuple."
   ]
  },
  {
   "cell_type": "code",
   "execution_count": null,
   "metadata": {},
   "outputs": [],
   "source": [
    "print(type(episode_list))\n",
    "print(type(episode_list.iloc[2:4,1:5]))\n",
    "print(type(episode_list.iloc[2:5].loc[:,('Title','Written by')]))"
   ]
  },
  {
   "cell_type": "code",
   "execution_count": null,
   "metadata": {},
   "outputs": [],
   "source": [
    "# episode_list.iloc[2:4,1:5]\n",
    "# episode_list.iloc[2:5].loc[:,('Title','Written by')]"
   ]
  },
  {
   "cell_type": "markdown",
   "metadata": {},
   "source": [
    "In fact, all of these are functionally equivalent:"
   ]
  },
  {
   "cell_type": "code",
   "execution_count": null,
   "metadata": {
    "scrolled": false
   },
   "outputs": [],
   "source": [
    "# .loc uses strings to locate cells\n",
    "episode_list.loc[:,'Title']\n",
    "\n",
    "# .iloc uses integers to locate cells\n",
    "episode_list.iloc[:,1] \n",
    "\n",
    "# .ix uses strings first, but can use integers if none are available.\n",
    "# It's deprecated, so don't expect it to be here long.\n",
    "#episode_list.ix[:,'Title']\n",
    "\n",
    "#episode_list.ix[:,1]\n",
    "\n",
    "# alternatively, you can refer to the specific column head\n",
    "episode_list['Title']\n",
    "\n",
    "# or use dot notation (if there are no spaces in the column head).\n",
    "episode_list.Title"
   ]
  },
  {
   "cell_type": "code",
   "execution_count": null,
   "metadata": {},
   "outputs": [],
   "source": [
    "np.all(episode_list.loc[:,'Title'] == episode_list.iloc[:,1])"
   ]
  },
  {
   "cell_type": "code",
   "execution_count": null,
   "metadata": {},
   "outputs": [],
   "source": [
    "episode_list"
   ]
  },
  {
   "cell_type": "markdown",
   "metadata": {},
   "source": [
    "Looking at the viewer numbers, they are formatted like this:\n",
    "\n",
    "`4.70[19]`\n",
    "\n",
    "Unfortunately, Pandas doesn't know what to do with this; the format isn't anything it recognizes. So, we're going to temporarily convert it to a string (using the `.str` accessor), and use some string methods on it. Specifically, we'll use the `.split()` method again. This time, however, there isn't a space to _split_ on. As we mentioned before, the `.split()` method allows you to split on a specified character - we'll use the open bracket, as it separates the number from the footnote."
   ]
  },
  {
   "cell_type": "code",
   "execution_count": null,
   "metadata": {},
   "outputs": [],
   "source": [
    "episode_list.iloc[:,5].str.split('[')"
   ]
  },
  {
   "cell_type": "markdown",
   "metadata": {},
   "source": [
    "The cells are each split into two values. The numbers before the '[', and everything else. We only care about the stuff in the front, so we'll grab it with (you guessed it) a slice. While we're at it, we're going to go ahead and convert everything to a float, so we can have a number with a decimal."
   ]
  },
  {
   "cell_type": "code",
   "execution_count": null,
   "metadata": {},
   "outputs": [],
   "source": [
    "episode_list.iloc[:,5] = episode_list.iloc[:,5].str.split('[').str[0].astype('Float32')"
   ]
  },
  {
   "cell_type": "code",
   "execution_count": null,
   "metadata": {},
   "outputs": [],
   "source": [
    "episode_list.iloc[:,5]"
   ]
  },
  {
   "cell_type": "markdown",
   "metadata": {},
   "source": [
    "And, since it is a number (specifically, a float) we can do math operations on it."
   ]
  },
  {
   "cell_type": "code",
   "execution_count": null,
   "metadata": {},
   "outputs": [],
   "source": [
    "episode_list.iloc[:,5].mean()"
   ]
  },
  {
   "cell_type": "markdown",
   "metadata": {},
   "source": [
    "Now, we're going to use the .apply() method to apply a function to a column. We're going to convert the 'Original air date' column to a DateTime object. Pandas will try to see if there are ways to interpret the information in these cells as dates. First, let's look at the `pd.to_datetime` method."
   ]
  },
  {
   "cell_type": "code",
   "execution_count": null,
   "metadata": {},
   "outputs": [],
   "source": [
    "# pd.to_datetime?"
   ]
  },
  {
   "cell_type": "code",
   "execution_count": null,
   "metadata": {},
   "outputs": [],
   "source": [
    "episode_list['Original air date'].str.extract(r'([A-Z][a-z]+\\s\\d{1,2},\\s\\d{4})').apply(pd.to_datetime)"
   ]
  },
  {
   "cell_type": "markdown",
   "metadata": {},
   "source": [
    "This information, `May 14, 2009`, thankfully, is in a format that Pandas can convert with `pd.to_datetime`.\n",
    "\n",
    "*we'll be coming back here later...*"
   ]
  },
  {
   "cell_type": "code",
   "execution_count": null,
   "metadata": {},
   "outputs": [],
   "source": [
    "episode_list['Original air date'] = episode_list['Original air date'].str.extract(r'([A-Z][a-z]+\\s\\d{1,2},\\s\\d{4})').apply(pd.to_datetime)"
   ]
  },
  {
   "cell_type": "markdown",
   "metadata": {},
   "source": [
    "Now, let's do some graphing!\n",
    "\n",
    "First, we'll tell jupyter that we want to do the graphs inline, and then we'll import another library."
   ]
  },
  {
   "cell_type": "code",
   "execution_count": null,
   "metadata": {},
   "outputs": [],
   "source": [
    "%matplotlib inline\n",
    "import matplotlib.pyplot as plt"
   ]
  },
  {
   "cell_type": "markdown",
   "metadata": {},
   "source": [
    "Graphing can be as simple as using the `.plot()` method."
   ]
  },
  {
   "cell_type": "code",
   "execution_count": null,
   "metadata": {
    "scrolled": true
   },
   "outputs": [],
   "source": [
    "episode_list.iloc[:,5:7].plot(); "
   ]
  },
  {
   "cell_type": "markdown",
   "metadata": {},
   "source": [
    "But what if we want to get really fancy? PyPlot has some really excellent features. We can append this stuff to the default figure 1."
   ]
  },
  {
   "cell_type": "code",
   "execution_count": null,
   "metadata": {},
   "outputs": [],
   "source": [
    "# plt.plot?"
   ]
  },
  {
   "cell_type": "code",
   "execution_count": null,
   "metadata": {},
   "outputs": [],
   "source": [
    "print(type(episode_list.iloc[:,1]))\n",
    "print(type(episode_list.iloc[:,1].values))"
   ]
  },
  {
   "cell_type": "code",
   "execution_count": null,
   "metadata": {},
   "outputs": [],
   "source": [
    "#plt.xticks?"
   ]
  },
  {
   "cell_type": "code",
   "execution_count": null,
   "metadata": {},
   "outputs": [],
   "source": [
    "episode_titles = episode_list.iloc[:,1].values\n",
    "episode_viewers = episode_list.iloc[:,5].values\n",
    "\n",
    "index = np.arange(len(episode_list))\n",
    "\n",
    "plt.figure(num=None, figsize=(16, 8), facecolor='w', edgecolor='k')\n",
    "plt.xlabel('Episode Titles')\n",
    "plt.title('Parks & Recreation Viewer Stats')\n",
    "plt.xticks(index,episode_titles,rotation=90)\n",
    "plt.ylabel('Viewers (in millions)')\n",
    "plt.plot(index, episode_viewers,'b',label='Viewers')\n",
    "plt.plot(pd.Series(episode_viewers).rolling(window=3).mean(),'r',label='Rolling Mean')\n",
    "plt.grid()\n",
    "\n",
    "plt.legend()\n",
    "plt.show()"
   ]
  },
  {
   "cell_type": "code",
   "execution_count": null,
   "metadata": {},
   "outputs": [],
   "source": []
  }
 ],
 "metadata": {
  "anaconda-cloud": {},
  "kernelspec": {
   "display_name": "Python 3",
   "language": "python",
   "name": "python3"
  },
  "language_info": {
   "codemirror_mode": {
    "name": "ipython",
    "version": 3
   },
   "file_extension": ".py",
   "mimetype": "text/x-python",
   "name": "python",
   "nbconvert_exporter": "python",
   "pygments_lexer": "ipython3",
   "version": "3.7.3"
  }
 },
 "nbformat": 4,
 "nbformat_minor": 1
}
